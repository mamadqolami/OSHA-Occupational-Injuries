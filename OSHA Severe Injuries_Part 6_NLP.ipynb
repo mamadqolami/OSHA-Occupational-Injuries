{
  "nbformat": 4,
  "nbformat_minor": 0,
  "metadata": {
    "colab": {
      "provenance": [],
      "gpuType": "T4"
    },
    "kernelspec": {
      "name": "python3",
      "display_name": "Python 3"
    },
    "language_info": {
      "name": "python"
    },
    "accelerator": "GPU"
  },
  "cells": [
    {
      "cell_type": "markdown",
      "source": [
        "# Part 6: NLP"
      ],
      "metadata": {
        "id": "3yzjVDS2s1bL"
      }
    },
    {
      "cell_type": "code",
      "execution_count": 1,
      "metadata": {
        "id": "hJ4kqODOe0p_"
      },
      "outputs": [],
      "source": [
        "import numpy as np\n",
        "import pandas as pd\n",
        "import matplotlib.pyplot as plt\n",
        "import seaborn as sns"
      ]
    },
    {
      "cell_type": "code",
      "source": [
        "!pip install -U -q PyDrive\n",
        "\n",
        "from pydrive.auth import GoogleAuth\n",
        "from pydrive.drive import GoogleDrive\n",
        "from google.colab import auth\n",
        "from oauth2client.client import GoogleCredentials\n",
        "\n",
        "\n",
        "# Authenticate and create the PyDrive client.\n",
        "auth.authenticate_user()\n",
        "gauth = GoogleAuth()\n",
        "gauth.credentials = GoogleCredentials.get_application_default()\n",
        "drive = GoogleDrive(gauth)"
      ],
      "metadata": {
        "id": "L3pplu-TfCFC"
      },
      "execution_count": 2,
      "outputs": []
    },
    {
      "cell_type": "code",
      "source": [
        "# Get the Final Narrative Dataset\n",
        "link = 'https://drive.google.com/file/d/16yKUYFo_k7vDvIVjtgfAE_DpZemEIxsz/view'\n",
        "\n",
        "# to get the id part of the file\n",
        "id = link.split(\"/\")[-2]\n",
        "\n",
        "downloaded = drive.CreateFile({'id':id})\n",
        "downloaded.GetContentFile('Final Narrative.csv')\n",
        "\n",
        "df = pd.read_csv('Final Narrative.csv', index_col=0)"
      ],
      "metadata": {
        "id": "zhPHOHVifCCr"
      },
      "execution_count": 3,
      "outputs": []
    },
    {
      "cell_type": "markdown",
      "source": [
        "# 8. NLP"
      ],
      "metadata": {
        "id": "KV42Bik-tkph"
      }
    },
    {
      "cell_type": "code",
      "source": [
        "df.info()"
      ],
      "metadata": {
        "colab": {
          "base_uri": "https://localhost:8080/"
        },
        "id": "dG0ra1o3fB7D",
        "outputId": "e36c9822-42bb-4951-b70a-a1071f2b436f"
      },
      "execution_count": 4,
      "outputs": [
        {
          "output_type": "stream",
          "name": "stdout",
          "text": [
            "<class 'pandas.core.frame.DataFrame'>\n",
            "Int64Index: 77202 entries, 0 to 77207\n",
            "Data columns (total 3 columns):\n",
            " #   Column               Non-Null Count  Dtype  \n",
            "---  ------               --------------  -----  \n",
            " 0   Final Narrative      77202 non-null  object \n",
            " 1   Hospitalized_binary  77202 non-null  float64\n",
            " 2   Amputation_binary    77196 non-null  float64\n",
            "dtypes: float64(2), object(1)\n",
            "memory usage: 2.4+ MB\n"
          ]
        }
      ]
    },
    {
      "cell_type": "code",
      "source": [
        "df = df.dropna().copy()"
      ],
      "metadata": {
        "id": "6ckXGlJrtmYa"
      },
      "execution_count": 5,
      "outputs": []
    },
    {
      "cell_type": "code",
      "source": [
        "import tensorflow as tf\n",
        "from tensorflow.keras.preprocessing.text import Tokenizer\n",
        "from tensorflow.keras.preprocessing.sequence import pad_sequences\n",
        "from tensorflow.keras.models import Sequential\n",
        "from tensorflow.keras.layers import Embedding, LSTM, Dense\n",
        "from sklearn.model_selection import train_test_split\n",
        "\n",
        "# Separating the text and labels\n",
        "texts = df[\"Final Narrative\"].values\n",
        "labels_hospitalized = df[\"Hospitalized_binary\"].values\n",
        "labels_amputation = df[\"Amputation_binary\"].values\n",
        "\n",
        "# Using Tokenizer to tokenize the text and convert it to sequences\n",
        "tokenizer = Tokenizer()\n",
        "tokenizer.fit_on_texts(texts)\n",
        "sequences = tokenizer.texts_to_sequences(texts)\n",
        "\n",
        "# Padding the sequences to a fixed length (e.g., the length of the longest sequence)\n",
        "max_sequence_length = max([len(sequence) for sequence in sequences])\n",
        "sequences = pad_sequences(sequences, maxlen=max_sequence_length)\n",
        "\n",
        "# Splitting the data into training and testing sets\n",
        "X_train, X_test, y_train_hospitalized, y_test_hospitalized, y_train_amputation, y_test_amputation = train_test_split(\n",
        "    sequences, labels_hospitalized, labels_amputation, test_size=0.2, random_state=42\n",
        ")\n",
        "\n",
        "# Defining the model\n",
        "model = Sequential()\n",
        "model.add(Embedding(input_dim=len(tokenizer.word_index) + 1, output_dim=64, input_length=max_sequence_length))\n",
        "model.add(LSTM(128))\n",
        "model.add(Dense(1, activation='sigmoid'))\n",
        "\n",
        "# Compiling the model\n",
        "model.compile(loss='binary_crossentropy', optimizer='adam', metrics=['accuracy'])\n",
        "model.summary()"
      ],
      "metadata": {
        "colab": {
          "base_uri": "https://localhost:8080/"
        },
        "id": "FC3JKy4Gt1Do",
        "outputId": "de209493-d154-4892-d950-676737def8f6"
      },
      "execution_count": 6,
      "outputs": [
        {
          "output_type": "stream",
          "name": "stdout",
          "text": [
            "Model: \"sequential\"\n",
            "_________________________________________________________________\n",
            " Layer (type)                Output Shape              Param #   \n",
            "=================================================================\n",
            " embedding (Embedding)       (None, 386, 64)           1049920   \n",
            "                                                                 \n",
            " lstm (LSTM)                 (None, 128)               98816     \n",
            "                                                                 \n",
            " dense (Dense)               (None, 1)                 129       \n",
            "                                                                 \n",
            "=================================================================\n",
            "Total params: 1,148,865\n",
            "Trainable params: 1,148,865\n",
            "Non-trainable params: 0\n",
            "_________________________________________________________________\n"
          ]
        }
      ]
    },
    {
      "cell_type": "code",
      "source": [
        "# Training the model for the Hospitalized_binary column\n",
        "print('Prediction of Hospitalization:')\n",
        "model.fit(X_train, y_train_hospitalized, validation_data=(X_test, y_test_hospitalized), epochs=10, batch_size=64)\n",
        "print('~~~~~~~~~~~~~~~~~~~~~~~~~~~~~~~~~~~')\n",
        "print('Evaluation:')\n",
        "model.evaluate(X_test, y_test_hospitalized)"
      ],
      "metadata": {
        "colab": {
          "base_uri": "https://localhost:8080/"
        },
        "id": "y_BBFaTUt40C",
        "outputId": "5fe7ed2b-12bb-480f-88c0-f502c2d1be99"
      },
      "execution_count": 7,
      "outputs": [
        {
          "output_type": "stream",
          "name": "stdout",
          "text": [
            "Prediction of Hospitalization:\n",
            "Epoch 1/10\n",
            "965/965 [==============================] - 77s 71ms/step - loss: 0.1898 - accuracy: 0.9144 - val_loss: 0.1680 - val_accuracy: 0.9262\n",
            "Epoch 2/10\n",
            "965/965 [==============================] - 24s 25ms/step - loss: 0.1635 - accuracy: 0.9272 - val_loss: 0.1690 - val_accuracy: 0.9253\n",
            "Epoch 3/10\n",
            "965/965 [==============================] - 21s 22ms/step - loss: 0.1562 - accuracy: 0.9307 - val_loss: 0.1760 - val_accuracy: 0.9219\n",
            "Epoch 4/10\n",
            "965/965 [==============================] - 19s 20ms/step - loss: 0.1486 - accuracy: 0.9352 - val_loss: 0.1815 - val_accuracy: 0.9212\n",
            "Epoch 5/10\n",
            "965/965 [==============================] - 23s 24ms/step - loss: 0.1419 - accuracy: 0.9385 - val_loss: 0.1830 - val_accuracy: 0.9201\n",
            "Epoch 6/10\n",
            "965/965 [==============================] - 21s 21ms/step - loss: 0.1330 - accuracy: 0.9435 - val_loss: 0.1972 - val_accuracy: 0.9173\n",
            "Epoch 7/10\n",
            "965/965 [==============================] - 21s 22ms/step - loss: 0.1257 - accuracy: 0.9477 - val_loss: 0.1968 - val_accuracy: 0.9147\n",
            "Epoch 8/10\n",
            "965/965 [==============================] - 21s 21ms/step - loss: 0.1172 - accuracy: 0.9518 - val_loss: 0.2302 - val_accuracy: 0.9083\n",
            "Epoch 9/10\n",
            "965/965 [==============================] - 22s 22ms/step - loss: 0.1089 - accuracy: 0.9555 - val_loss: 0.2219 - val_accuracy: 0.9094\n",
            "Epoch 10/10\n",
            "965/965 [==============================] - 21s 21ms/step - loss: 0.0995 - accuracy: 0.9603 - val_loss: 0.2592 - val_accuracy: 0.9073\n",
            "~~~~~~~~~~~~~~~~~~~~~~~~~~~~~~~~~~~\n",
            "Evaluation:\n",
            "483/483 [==============================] - 4s 9ms/step - loss: 0.2592 - accuracy: 0.9073\n"
          ]
        },
        {
          "output_type": "execute_result",
          "data": {
            "text/plain": [
              "[0.2592056095600128, 0.9072538614273071]"
            ]
          },
          "metadata": {},
          "execution_count": 7
        }
      ]
    },
    {
      "cell_type": "code",
      "source": [
        "text1 = \"The worker fell from a height and was taken to the hospital\"\n",
        "text2 = \"The worker's hand went under the press.\"\n",
        "\n",
        "seq1 = tokenizer.texts_to_sequences([text1])\n",
        "pad1 = pad_sequences(seq1, maxlen = max_sequence_length, padding = 'pre', truncating= 'pre')\n",
        "seq2 = tokenizer.texts_to_sequences([text2])\n",
        "pad2 = pad_sequences(seq2, maxlen = max_sequence_length, padding = 'pre', truncating= 'pre')\n",
        "\n",
        "print(model.predict(pad1))\n",
        "print(model.predict(pad2))"
      ],
      "metadata": {
        "colab": {
          "base_uri": "https://localhost:8080/"
        },
        "id": "LqbHB7j5uQxw",
        "outputId": "edb5e974-58d2-4c96-8dcf-551c734c2d3f"
      },
      "execution_count": 9,
      "outputs": [
        {
          "output_type": "stream",
          "name": "stdout",
          "text": [
            "1/1 [==============================] - 0s 22ms/step\n",
            "[[0.9939765]]\n",
            "1/1 [==============================] - 0s 23ms/step\n",
            "[[0.9879594]]\n"
          ]
        }
      ]
    },
    {
      "cell_type": "code",
      "source": [
        "# Training the model for the Amputation_binary column\n",
        "print('Prediction of Amputation:')\n",
        "model.fit(X_train, y_train_amputation, validation_data=(X_test, y_test_amputation), epochs=10, batch_size=64)\n",
        "print('~~~~~~~~~~~~~~~~~~~~~~~~~~~~~~~~~~~')\n",
        "print('Evaluation:')\n",
        "model.evaluate(X_test, y_test_amputation)"
      ],
      "metadata": {
        "colab": {
          "base_uri": "https://localhost:8080/"
        },
        "id": "8naB8kEzuVFo",
        "outputId": "c4130069-c45b-4a2d-bb66-3b9fc97c5224"
      },
      "execution_count": 10,
      "outputs": [
        {
          "output_type": "stream",
          "name": "stdout",
          "text": [
            "Prediction of Amputation:\n",
            "Epoch 1/10\n",
            "965/965 [==============================] - 21s 22ms/step - loss: 0.0907 - accuracy: 0.9778 - val_loss: 0.0557 - val_accuracy: 0.9848\n",
            "Epoch 2/10\n",
            "965/965 [==============================] - 21s 22ms/step - loss: 0.0419 - accuracy: 0.9898 - val_loss: 0.0555 - val_accuracy: 0.9852\n",
            "Epoch 3/10\n",
            "965/965 [==============================] - 20s 21ms/step - loss: 0.0378 - accuracy: 0.9910 - val_loss: 0.0595 - val_accuracy: 0.9835\n",
            "Epoch 4/10\n",
            "965/965 [==============================] - 19s 20ms/step - loss: 0.0346 - accuracy: 0.9918 - val_loss: 0.0575 - val_accuracy: 0.9850\n",
            "Epoch 5/10\n",
            "965/965 [==============================] - 20s 21ms/step - loss: 0.0310 - accuracy: 0.9926 - val_loss: 0.0625 - val_accuracy: 0.9837\n",
            "Epoch 6/10\n",
            "965/965 [==============================] - 20s 21ms/step - loss: 0.0280 - accuracy: 0.9934 - val_loss: 0.0714 - val_accuracy: 0.9823\n",
            "Epoch 7/10\n",
            "965/965 [==============================] - 21s 22ms/step - loss: 0.0253 - accuracy: 0.9937 - val_loss: 0.0813 - val_accuracy: 0.9793\n",
            "Epoch 8/10\n",
            "965/965 [==============================] - 26s 26ms/step - loss: 0.0225 - accuracy: 0.9943 - val_loss: 0.0759 - val_accuracy: 0.9812\n",
            "Epoch 9/10\n",
            "965/965 [==============================] - 24s 25ms/step - loss: 0.0208 - accuracy: 0.9947 - val_loss: 0.0809 - val_accuracy: 0.9801\n",
            "Epoch 10/10\n",
            "965/965 [==============================] - 25s 26ms/step - loss: 0.0168 - accuracy: 0.9959 - val_loss: 0.0959 - val_accuracy: 0.9766\n",
            "~~~~~~~~~~~~~~~~~~~~~~~~~~~~~~~~~~~\n",
            "Evaluation:\n",
            "483/483 [==============================] - 4s 8ms/step - loss: 0.0959 - accuracy: 0.9766\n"
          ]
        },
        {
          "output_type": "execute_result",
          "data": {
            "text/plain": [
              "[0.09593289345502853, 0.9765543937683105]"
            ]
          },
          "metadata": {},
          "execution_count": 10
        }
      ]
    },
    {
      "cell_type": "code",
      "source": [
        "text1 = \"The worker fell from a height and was taken to the hospital\"\n",
        "text2 = \"The worker's hand went under the press and her fingers were cut off.\"\n",
        "\n",
        "seq1 = tokenizer.texts_to_sequences([text1])\n",
        "pad1 = pad_sequences(seq1, maxlen = max_sequence_length, padding = 'pre', truncating= 'pre')\n",
        "seq2 = tokenizer.texts_to_sequences([text2])\n",
        "pad2 = pad_sequences(seq2, maxlen = max_sequence_length, padding = 'pre', truncating= 'pre')\n",
        "\n",
        "print(model.predict(pad1))\n",
        "print(model.predict(pad2))"
      ],
      "metadata": {
        "colab": {
          "base_uri": "https://localhost:8080/"
        },
        "id": "qY6W1ddXuWso",
        "outputId": "8920e028-cb49-4e98-f1b9-8f686fc00bab"
      },
      "execution_count": 12,
      "outputs": [
        {
          "output_type": "stream",
          "name": "stdout",
          "text": [
            "1/1 [==============================] - 0s 23ms/step\n",
            "[[0.00108384]]\n",
            "1/1 [==============================] - 0s 23ms/step\n",
            "[[0.9883279]]\n"
          ]
        }
      ]
    },
    {
      "cell_type": "markdown",
      "source": [
        "# END =)"
      ],
      "metadata": {
        "id": "dXfeN6LkuYwJ"
      }
    }
  ]
}